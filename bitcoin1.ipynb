{
  "nbformat": 4,
  "nbformat_minor": 5,
  "metadata": {
    "kernelspec": {
      "display_name": "Python 3",
      "language": "python",
      "name": "python3"
    },
    "language_info": {
      "codemirror_mode": {
        "name": "ipython",
        "version": 3
      },
      "file_extension": ".py",
      "mimetype": "text/x-python",
      "name": "python",
      "nbconvert_exporter": "python",
      "pygments_lexer": "ipython3",
      "version": "3.8.8"
    },
    "colab": {
      "name": "hw10_202012072.ipynb",
      "provenance": [],
      "collapsed_sections": []
    }
  },
  "cells": [
    {
      "cell_type": "code",
      "metadata": {
        "colab": {
          "base_uri": "https://localhost:8080/"
        },
        "id": "DQVNujb5E8tq",
        "outputId": "914c96aa-366e-4146-df5d-0d59b7f313bc"
      },
      "source": [
        "from google.colab import drive\n",
        "drive.mount('/content/gdrive')"
      ],
      "id": "DQVNujb5E8tq",
      "execution_count": 7,
      "outputs": [
        {
          "output_type": "stream",
          "name": "stdout",
          "text": [
            "Drive already mounted at /content/gdrive; to attempt to forcibly remount, call drive.mount(\"/content/gdrive\", force_remount=True).\n"
          ]
        }
      ]
    },
    {
      "cell_type": "code",
      "metadata": {
        "colab": {
          "base_uri": "https://localhost:8080/"
        },
        "id": "CJ5eK_OYE-Bk",
        "outputId": "c64ee999-1321-40b3-d6e5-2b853bab8744"
      },
      "source": [
        "!pwd"
      ],
      "id": "CJ5eK_OYE-Bk",
      "execution_count": 8,
      "outputs": [
        {
          "output_type": "stream",
          "name": "stdout",
          "text": [
            "/content/gdrive/My Drive/XB00036\n"
          ]
        }
      ]
    },
    {
      "cell_type": "code",
      "metadata": {
        "colab": {
          "base_uri": "https://localhost:8080/"
        },
        "id": "CjvZWokfE-NB",
        "outputId": "34c1a0dc-4190-43e6-d84d-6ece1073f6e9"
      },
      "source": [
        "%cd/content/gdrive/MyDrive/XB00036"
      ],
      "id": "CjvZWokfE-NB",
      "execution_count": 9,
      "outputs": [
        {
          "output_type": "stream",
          "name": "stdout",
          "text": [
            "/content/gdrive/MyDrive/XB00036\n"
          ]
        }
      ]
    },
    {
      "cell_type": "code",
      "metadata": {
        "colab": {
          "base_uri": "https://localhost:8080/",
          "height": 424
        },
        "id": "0cd15b9d",
        "outputId": "c3ee76f3-70d9-4a93-bf75-e3dc871215ec"
      },
      "source": [
        "import pandas as pd\n",
        "\n",
        "path = './data/market-price.csv'\n",
        "bitcoin_df = pd.read_csv(path, names = ['day', 'price'])\n",
        "\n",
        "bitcoin_df"
      ],
      "id": "0cd15b9d",
      "execution_count": 22,
      "outputs": [
        {
          "output_type": "execute_result",
          "data": {
            "text/html": [
              "<div>\n",
              "<style scoped>\n",
              "    .dataframe tbody tr th:only-of-type {\n",
              "        vertical-align: middle;\n",
              "    }\n",
              "\n",
              "    .dataframe tbody tr th {\n",
              "        vertical-align: top;\n",
              "    }\n",
              "\n",
              "    .dataframe thead th {\n",
              "        text-align: right;\n",
              "    }\n",
              "</style>\n",
              "<table border=\"1\" class=\"dataframe\">\n",
              "  <thead>\n",
              "    <tr style=\"text-align: right;\">\n",
              "      <th></th>\n",
              "      <th>day</th>\n",
              "      <th>price</th>\n",
              "    </tr>\n",
              "  </thead>\n",
              "  <tbody>\n",
              "    <tr>\n",
              "      <th>0</th>\n",
              "      <td>2017-08-27 00:00:00</td>\n",
              "      <td>4354.308333</td>\n",
              "    </tr>\n",
              "    <tr>\n",
              "      <th>1</th>\n",
              "      <td>2017-08-28 00:00:00</td>\n",
              "      <td>4391.673517</td>\n",
              "    </tr>\n",
              "    <tr>\n",
              "      <th>2</th>\n",
              "      <td>2017-08-29 00:00:00</td>\n",
              "      <td>4607.985450</td>\n",
              "    </tr>\n",
              "    <tr>\n",
              "      <th>3</th>\n",
              "      <td>2017-08-30 00:00:00</td>\n",
              "      <td>4594.987850</td>\n",
              "    </tr>\n",
              "    <tr>\n",
              "      <th>4</th>\n",
              "      <td>2017-08-31 00:00:00</td>\n",
              "      <td>4748.255000</td>\n",
              "    </tr>\n",
              "    <tr>\n",
              "      <th>...</th>\n",
              "      <td>...</td>\n",
              "      <td>...</td>\n",
              "    </tr>\n",
              "    <tr>\n",
              "      <th>360</th>\n",
              "      <td>2018-08-22 00:00:00</td>\n",
              "      <td>6575.229167</td>\n",
              "    </tr>\n",
              "    <tr>\n",
              "      <th>361</th>\n",
              "      <td>2018-08-23 00:00:00</td>\n",
              "      <td>6434.881667</td>\n",
              "    </tr>\n",
              "    <tr>\n",
              "      <th>362</th>\n",
              "      <td>2018-08-24 00:00:00</td>\n",
              "      <td>6543.645714</td>\n",
              "    </tr>\n",
              "    <tr>\n",
              "      <th>363</th>\n",
              "      <td>2018-08-25 00:00:00</td>\n",
              "      <td>6719.429231</td>\n",
              "    </tr>\n",
              "    <tr>\n",
              "      <th>364</th>\n",
              "      <td>2018-08-26 00:00:00</td>\n",
              "      <td>6673.274167</td>\n",
              "    </tr>\n",
              "  </tbody>\n",
              "</table>\n",
              "<p>365 rows × 2 columns</p>\n",
              "</div>"
            ],
            "text/plain": [
              "                     day        price\n",
              "0    2017-08-27 00:00:00  4354.308333\n",
              "1    2017-08-28 00:00:00  4391.673517\n",
              "2    2017-08-29 00:00:00  4607.985450\n",
              "3    2017-08-30 00:00:00  4594.987850\n",
              "4    2017-08-31 00:00:00  4748.255000\n",
              "..                   ...          ...\n",
              "360  2018-08-22 00:00:00  6575.229167\n",
              "361  2018-08-23 00:00:00  6434.881667\n",
              "362  2018-08-24 00:00:00  6543.645714\n",
              "363  2018-08-25 00:00:00  6719.429231\n",
              "364  2018-08-26 00:00:00  6673.274167\n",
              "\n",
              "[365 rows x 2 columns]"
            ]
          },
          "metadata": {},
          "execution_count": 22
        }
      ]
    },
    {
      "cell_type": "code",
      "metadata": {
        "colab": {
          "base_uri": "https://localhost:8080/"
        },
        "id": "18cf2545",
        "outputId": "8a6d0a17-34dc-4d36-8eb0-4ffc0b4f7b04"
      },
      "source": [
        "bitcoin_df.info()"
      ],
      "id": "18cf2545",
      "execution_count": 11,
      "outputs": [
        {
          "output_type": "stream",
          "name": "stdout",
          "text": [
            "<class 'pandas.core.frame.DataFrame'>\n",
            "RangeIndex: 365 entries, 0 to 364\n",
            "Data columns (total 2 columns):\n",
            " #   Column  Non-Null Count  Dtype  \n",
            "---  ------  --------------  -----  \n",
            " 0   day     365 non-null    object \n",
            " 1   price   365 non-null    float64\n",
            "dtypes: float64(1), object(1)\n",
            "memory usage: 5.8+ KB\n"
          ]
        }
      ]
    },
    {
      "cell_type": "code",
      "metadata": {
        "colab": {
          "base_uri": "https://localhost:8080/",
          "height": 206
        },
        "id": "c4180ea0",
        "outputId": "f6bb32f0-d424-4443-883f-cc84cadd1227"
      },
      "source": [
        "bitcoin_df.head()       # 위부분 출력"
      ],
      "id": "c4180ea0",
      "execution_count": 12,
      "outputs": [
        {
          "output_type": "execute_result",
          "data": {
            "text/html": [
              "<div>\n",
              "<style scoped>\n",
              "    .dataframe tbody tr th:only-of-type {\n",
              "        vertical-align: middle;\n",
              "    }\n",
              "\n",
              "    .dataframe tbody tr th {\n",
              "        vertical-align: top;\n",
              "    }\n",
              "\n",
              "    .dataframe thead th {\n",
              "        text-align: right;\n",
              "    }\n",
              "</style>\n",
              "<table border=\"1\" class=\"dataframe\">\n",
              "  <thead>\n",
              "    <tr style=\"text-align: right;\">\n",
              "      <th></th>\n",
              "      <th>day</th>\n",
              "      <th>price</th>\n",
              "    </tr>\n",
              "  </thead>\n",
              "  <tbody>\n",
              "    <tr>\n",
              "      <th>0</th>\n",
              "      <td>2017-08-27 00:00:00</td>\n",
              "      <td>4354.308333</td>\n",
              "    </tr>\n",
              "    <tr>\n",
              "      <th>1</th>\n",
              "      <td>2017-08-28 00:00:00</td>\n",
              "      <td>4391.673517</td>\n",
              "    </tr>\n",
              "    <tr>\n",
              "      <th>2</th>\n",
              "      <td>2017-08-29 00:00:00</td>\n",
              "      <td>4607.985450</td>\n",
              "    </tr>\n",
              "    <tr>\n",
              "      <th>3</th>\n",
              "      <td>2017-08-30 00:00:00</td>\n",
              "      <td>4594.987850</td>\n",
              "    </tr>\n",
              "    <tr>\n",
              "      <th>4</th>\n",
              "      <td>2017-08-31 00:00:00</td>\n",
              "      <td>4748.255000</td>\n",
              "    </tr>\n",
              "  </tbody>\n",
              "</table>\n",
              "</div>"
            ],
            "text/plain": [
              "                   day        price\n",
              "0  2017-08-27 00:00:00  4354.308333\n",
              "1  2017-08-28 00:00:00  4391.673517\n",
              "2  2017-08-29 00:00:00  4607.985450\n",
              "3  2017-08-30 00:00:00  4594.987850\n",
              "4  2017-08-31 00:00:00  4748.255000"
            ]
          },
          "metadata": {},
          "execution_count": 12
        }
      ]
    },
    {
      "cell_type": "code",
      "metadata": {
        "colab": {
          "base_uri": "https://localhost:8080/",
          "height": 206
        },
        "id": "50c6f766",
        "outputId": "7b3ae66a-fe05-4822-cd9d-17adac548409"
      },
      "source": [
        "bitcoin_df.tail()      # 아랫부분 출력"
      ],
      "id": "50c6f766",
      "execution_count": 13,
      "outputs": [
        {
          "output_type": "execute_result",
          "data": {
            "text/html": [
              "<div>\n",
              "<style scoped>\n",
              "    .dataframe tbody tr th:only-of-type {\n",
              "        vertical-align: middle;\n",
              "    }\n",
              "\n",
              "    .dataframe tbody tr th {\n",
              "        vertical-align: top;\n",
              "    }\n",
              "\n",
              "    .dataframe thead th {\n",
              "        text-align: right;\n",
              "    }\n",
              "</style>\n",
              "<table border=\"1\" class=\"dataframe\">\n",
              "  <thead>\n",
              "    <tr style=\"text-align: right;\">\n",
              "      <th></th>\n",
              "      <th>day</th>\n",
              "      <th>price</th>\n",
              "    </tr>\n",
              "  </thead>\n",
              "  <tbody>\n",
              "    <tr>\n",
              "      <th>360</th>\n",
              "      <td>2018-08-22 00:00:00</td>\n",
              "      <td>6575.229167</td>\n",
              "    </tr>\n",
              "    <tr>\n",
              "      <th>361</th>\n",
              "      <td>2018-08-23 00:00:00</td>\n",
              "      <td>6434.881667</td>\n",
              "    </tr>\n",
              "    <tr>\n",
              "      <th>362</th>\n",
              "      <td>2018-08-24 00:00:00</td>\n",
              "      <td>6543.645714</td>\n",
              "    </tr>\n",
              "    <tr>\n",
              "      <th>363</th>\n",
              "      <td>2018-08-25 00:00:00</td>\n",
              "      <td>6719.429231</td>\n",
              "    </tr>\n",
              "    <tr>\n",
              "      <th>364</th>\n",
              "      <td>2018-08-26 00:00:00</td>\n",
              "      <td>6673.274167</td>\n",
              "    </tr>\n",
              "  </tbody>\n",
              "</table>\n",
              "</div>"
            ],
            "text/plain": [
              "                     day        price\n",
              "360  2018-08-22 00:00:00  6575.229167\n",
              "361  2018-08-23 00:00:00  6434.881667\n",
              "362  2018-08-24 00:00:00  6543.645714\n",
              "363  2018-08-25 00:00:00  6719.429231\n",
              "364  2018-08-26 00:00:00  6673.274167"
            ]
          },
          "metadata": {},
          "execution_count": 13
        }
      ]
    },
    {
      "cell_type": "code",
      "metadata": {
        "colab": {
          "base_uri": "https://localhost:8080/",
          "height": 291
        },
        "id": "3c264e3d",
        "outputId": "55815a87-ee3a-49cf-8348-ed715e9bcbfa"
      },
      "source": [
        "# day 피처를 시계열 자료형(datatime)으로 변환    시간형으로 표현되었었던 것이 날짜형으로 표기됨\n",
        "bitcoin_df['day'] = pd.to_datetime(bitcoin_df['day'])\n",
        "\n",
        "# day 피처를 데이터 프레임의 인덱스로 설정\n",
        "bitcoin_df.set_index('day', drop= True, inplace = True)\n",
        "\n",
        "# 일자별 비트코인 시세를 꺾은선 그래프로 시각화\n",
        "%matplotlib inline\n",
        "\n",
        "import matplotlib.pyplot as plt\n",
        "\n",
        "bitcoin_df.plot()\n",
        "plt.show()"
      ],
      "id": "3c264e3d",
      "execution_count": 14,
      "outputs": [
        {
          "output_type": "display_data",
          "data": {
            "image/png": "[encoded data removed]",
            "text/plain": [
              "<Figure size 432x288 with 1 Axes>"
            ]
          },
          "metadata": {
            "needs_background": "light"
          }
        }
      ]
    },
    {
      "cell_type": "code",
      "metadata": {
        "colab": {
          "base_uri": "https://localhost:8080/",
          "height": 510
        },
        "id": "47c82243",
        "outputId": "8e99c9bb-2ee5-40bd-de3f-6285c04f8f34"
      },
      "source": [
        "# 경고문 무시\n",
        "import warnings\n",
        "warnings.filterwarnings('ignore')\n",
        "\n",
        "from statsmodels.tsa.arima_model import ARIMA\n",
        "\n",
        "model = ARIMA(bitcoin_df.price.values, order = (3,1,3))\n",
        "model_fit = model.fit(trend = 'c', full_output = True, disp = True)\n",
        "model_fit.summary()"
      ],
      "id": "47c82243",
      "execution_count": 15,
      "outputs": [
        {
          "output_type": "execute_result",
          "data": {
            "text/html": [
              "<table class=\"simpletable\">\n",
              "<caption>ARIMA Model Results</caption>\n",
              "<tr>\n",
              "  <th>Dep. Variable:</th>        <td>D.y</td>       <th>  No. Observations:  </th>    <td>364</td>   \n",
              "</tr>\n",
              "<tr>\n",
              "  <th>Model:</th>          <td>ARIMA(3, 1, 3)</td>  <th>  Log Likelihood     </th> <td>-2779.201</td>\n",
              "</tr>\n",
              "<tr>\n",
              "  <th>Method:</th>             <td>css-mle</td>     <th>  S.D. of innovations</th>  <td>500.312</td> \n",
              "</tr>\n",
              "<tr>\n",
              "  <th>Date:</th>          <td>Wed, 13 Oct 2021</td> <th>  AIC                </th> <td>5574.402</td> \n",
              "</tr>\n",
              "<tr>\n",
              "  <th>Time:</th>              <td>00:39:40</td>     <th>  BIC                </th> <td>5605.579</td> \n",
              "</tr>\n",
              "<tr>\n",
              "  <th>Sample:</th>                <td>1</td>        <th>  HQIC               </th> <td>5586.794</td> \n",
              "</tr>\n",
              "<tr>\n",
              "  <th></th>                       <td> </td>        <th>                     </th>     <td> </td>    \n",
              "</tr>\n",
              "</table>\n",
              "<table class=\"simpletable\">\n",
              "<tr>\n",
              "      <td></td>         <th>coef</th>     <th>std err</th>      <th>z</th>      <th>P>|z|</th>  <th>[0.025</th>    <th>0.975]</th>  \n",
              "</tr>\n",
              "<tr>\n",
              "  <th>const</th>     <td>    6.3991</td> <td>   27.641</td> <td>    0.232</td> <td> 0.817</td> <td>  -47.777</td> <td>   60.575</td>\n",
              "</tr>\n",
              "<tr>\n",
              "  <th>ar.L1.D.y</th> <td>   -0.2908</td> <td>    0.154</td> <td>   -1.889</td> <td> 0.060</td> <td>   -0.593</td> <td>    0.011</td>\n",
              "</tr>\n",
              "<tr>\n",
              "  <th>ar.L2.D.y</th> <td>   -0.6372</td> <td>    0.077</td> <td>   -8.279</td> <td> 0.000</td> <td>   -0.788</td> <td>   -0.486</td>\n",
              "</tr>\n",
              "<tr>\n",
              "  <th>ar.L3.D.y</th> <td>   -0.7095</td> <td>    0.148</td> <td>   -4.785</td> <td> 0.000</td> <td>   -1.000</td> <td>   -0.419</td>\n",
              "</tr>\n",
              "<tr>\n",
              "  <th>ma.L1.D.y</th> <td>    0.3949</td> <td>    0.140</td> <td>    2.813</td> <td> 0.005</td> <td>    0.120</td> <td>    0.670</td>\n",
              "</tr>\n",
              "<tr>\n",
              "  <th>ma.L2.D.y</th> <td>    0.6430</td> <td>    0.071</td> <td>    9.093</td> <td> 0.000</td> <td>    0.504</td> <td>    0.782</td>\n",
              "</tr>\n",
              "<tr>\n",
              "  <th>ma.L3.D.y</th> <td>    0.7423</td> <td>    0.131</td> <td>    5.660</td> <td> 0.000</td> <td>    0.485</td> <td>    0.999</td>\n",
              "</tr>\n",
              "</table>\n",
              "<table class=\"simpletable\">\n",
              "<caption>Roots</caption>\n",
              "<tr>\n",
              "    <td></td>   <th>            Real</th>  <th>         Imaginary</th> <th>         Modulus</th>  <th>        Frequency</th>\n",
              "</tr>\n",
              "<tr>\n",
              "  <th>AR.1</th> <td>           0.2306</td> <td>          -0.9918j</td> <td>           1.0183</td> <td>          -0.2136</td>\n",
              "</tr>\n",
              "<tr>\n",
              "  <th>AR.2</th> <td>           0.2306</td> <td>          +0.9918j</td> <td>           1.0183</td> <td>           0.2136</td>\n",
              "</tr>\n",
              "<tr>\n",
              "  <th>AR.3</th> <td>          -1.3594</td> <td>          -0.0000j</td> <td>           1.3594</td> <td>          -0.5000</td>\n",
              "</tr>\n",
              "<tr>\n",
              "  <th>MA.1</th> <td>           0.2051</td> <td>          -1.0067j</td> <td>           1.0274</td> <td>          -0.2180</td>\n",
              "</tr>\n",
              "<tr>\n",
              "  <th>MA.2</th> <td>           0.2051</td> <td>          +1.0067j</td> <td>           1.0274</td> <td>           0.2180</td>\n",
              "</tr>\n",
              "<tr>\n",
              "  <th>MA.3</th> <td>          -1.2764</td> <td>          -0.0000j</td> <td>           1.2764</td> <td>          -0.5000</td>\n",
              "</tr>\n",
              "</table>"
            ],
            "text/plain": [
              "<class 'statsmodels.iolib.summary.Summary'>\n",
              "\"\"\"\n",
              "                             ARIMA Model Results                              \n",
              "==============================================================================\n",
              "Dep. Variable:                    D.y   No. Observations:                  364\n",
              "Model:                 ARIMA(3, 1, 3)   Log Likelihood               -2779.201\n",
              "Method:                       css-mle   S.D. of innovations            500.312\n",
              "Date:                Wed, 13 Oct 2021   AIC                           5574.402\n",
              "Time:                        00:39:40   BIC                           5605.579\n",
              "Sample:                             1   HQIC                          5586.794\n",
              "                                                                              \n",
              "==============================================================================\n",
              "                 coef    std err          z      P>|z|      [0.025      0.975]\n",
              "------------------------------------------------------------------------------\n",
              "const          6.3991     27.641      0.232      0.817     -47.777      60.575\n",
              "ar.L1.D.y     -0.2908      0.154     -1.889      0.060      -0.593       0.011\n",
              "ar.L2.D.y     -0.6372      0.077     -8.279      0.000      -0.788      -0.486\n",
              "ar.L3.D.y     -0.7095      0.148     -4.785      0.000      -1.000      -0.419\n",
              "ma.L1.D.y      0.3949      0.140      2.813      0.005       0.120       0.670\n",
              "ma.L2.D.y      0.6430      0.071      9.093      0.000       0.504       0.782\n",
              "ma.L3.D.y      0.7423      0.131      5.660      0.000       0.485       0.999\n",
              "                                    Roots                                    \n",
              "=============================================================================\n",
              "                  Real          Imaginary           Modulus         Frequency\n",
              "-----------------------------------------------------------------------------\n",
              "AR.1            0.2306           -0.9918j            1.0183           -0.2136\n",
              "AR.2            0.2306           +0.9918j            1.0183            0.2136\n",
              "AR.3           -1.3594           -0.0000j            1.3594           -0.5000\n",
              "MA.1            0.2051           -1.0067j            1.0274           -0.2180\n",
              "MA.2            0.2051           +1.0067j            1.0274            0.2180\n",
              "MA.3           -1.2764           -0.0000j            1.2764           -0.5000\n",
              "-----------------------------------------------------------------------------\n",
              "\"\"\""
            ]
          },
          "metadata": {},
          "execution_count": 15
        }
      ]
    },
    {
      "cell_type": "code",
      "metadata": {
        "colab": {
          "base_uri": "https://localhost:8080/",
          "height": 265
        },
        "id": "4e47caff",
        "outputId": "fe9606bc-949f-48ca-de15-14265c233c47"
      },
      "source": [
        "fig1 = model_fit.plot_predict()"
      ],
      "id": "4e47caff",
      "execution_count": 16,
      "outputs": [
        {
          "output_type": "display_data",
          "data": {
            "image/png": "[encoded data removed]",
            "text/plain": [
              "<Figure size 432x288 with 1 Axes>"
            ]
          },
          "metadata": {
            "needs_background": "light"
          }
        }
      ]
    },
    {
      "cell_type": "code",
      "metadata": {
        "colab": {
          "base_uri": "https://localhost:8080/",
          "height": 269
        },
        "id": "9fda09cb",
        "outputId": "f52065a6-6d8b-42ee-a8e8-d9e207281d1c"
      },
      "source": [
        "# 잔차(잔차가 작을 수록 훈련을 잘시킨 것)\n",
        "\n",
        "fig2 = pd.DataFrame(model_fit.resid).plot()"
      ],
      "id": "9fda09cb",
      "execution_count": 17,
      "outputs": [
        {
          "output_type": "display_data",
          "data": {
            "image/png": "[encoded data removed]",
            "text/plain": [
              "<Figure size 432x288 with 1 Axes>"
            ]
          },
          "metadata": {
            "needs_background": "light"
          }
        }
      ]
    },
    {
      "cell_type": "code",
      "metadata": {
        "colab": {
          "base_uri": "https://localhost:8080/"
        },
        "id": "15405306",
        "outputId": "a3606e3b-ca71-441f-bfb6-aa5f0d7da629"
      },
      "source": [
        "# 비트코인 시세 예측하기(중간에 _는 무시하고 건너뛴다는 의미)\n",
        "\n",
        "pred_y, _, conf_int = model_fit.forecast(steps = 5)\n",
        "pred_y_lower = conf_int[:, 0]\n",
        "pred_y_upper = conf_int[:, 1]\n",
        "pred_y"
      ],
      "id": "15405306",
      "execution_count": 18,
      "outputs": [
        {
          "output_type": "execute_result",
          "data": {
            "text/plain": [
              "array([6668.32443022, 6630.28292781, 6624.45373994, 6670.7806457 ,\n",
              "       6704.88818595])"
            ]
          },
          "metadata": {},
          "execution_count": 18
        }
      ]
    },
    {
      "cell_type": "code",
      "metadata": {
        "id": "c6956566"
      },
      "source": [
        "test_path = './data/market-price-test.csv'\n",
        "test_df = pd.read_csv(test_path, names = ['day', 'price'])\n",
        "test_y = test_df.price.to_numpy()"
      ],
      "id": "c6956566",
      "execution_count": 19,
      "outputs": []
    },
    {
      "cell_type": "code",
      "metadata": {
        "colab": {
          "base_uri": "https://localhost:8080/",
          "height": 281
        },
        "id": "6dad51f3",
        "outputId": "d6da1c38-f73e-4ba6-8d37-ec49ebd589d0"
      },
      "source": [
        "plt.plot(pred_y, label = 'forecast')\n",
        "plt.plot(test_y, label = 'y')\n",
        "plt.plot(pred_y_lower, label = 'conf_in_lower')\n",
        "plt.plot(pred_y_upper, label = 'conf_in_upper')\n",
        "plt.title('bitcoin price forecast')\n",
        "plt.legend()\n",
        "plt.show()\n"
      ],
      "id": "6dad51f3",
      "execution_count": 20,
      "outputs": [
        {
          "output_type": "display_data",
          "data": {
            "image/png": "[encoded data removed]",
            "text/plain": [
              "<Figure size 432x288 with 1 Axes>"
            ]
          },
          "metadata": {
            "needs_background": "light"
          }
        }
      ]
    },
    {
      "cell_type": "code",
      "metadata": {
        "colab": {
          "base_uri": "https://localhost:8080/",
          "height": 281
        },
        "id": "613fb8cc",
        "outputId": "5beeceaa-c09f-4af2-c5cf-b3e85726552a"
      },
      "source": [
        "plt.plot(pred_y, label = 'forecast')\n",
        "plt.plot(test_y, label = 'y')\n",
        "plt.title('bitcoin price forecast')\n",
        "plt.legend()\n",
        "plt.show()"
      ],
      "id": "613fb8cc",
      "execution_count": 24,
      "outputs": [
        {
          "output_type": "display_data",
          "data": {
            "image/png": "[encoded data removed]",
            "text/plain": [
              "<Figure size 432x288 with 1 Axes>"
            ]
          },
          "metadata": {
            "needs_background": "light"
          }
        }
      ]
    },
    {
      "cell_type": "code",
      "metadata": {
        "colab": {
          "base_uri": "https://localhost:8080/"
        },
        "id": "eoQEee2vF33y",
        "outputId": "ae162e82-af0b-44d3-81ad-ed207bfdd2ae"
      },
      "source": [
        "from fbprophet import Prophet\n",
        "\n",
        "path = './data/market-price.csv'\n",
        "bitcoin_df = pd.read_csv(path, names = ['ds', 'y'])\n",
        "bitcoin_df.info()\n",
        "\n",
        "prophet = Prophet(seasonality_mode = 'multiplicative',\n",
        "                  yearly_seasonality = True,\n",
        "                  weekly_seasonality = True,\n",
        "                  daily_seasonality = True,\n",
        "                  changepoint_prior_scale = 0.5)\n",
        "prophet.fit(bitcoin_df)"
      ],
      "id": "eoQEee2vF33y",
      "execution_count": 29,
      "outputs": [
        {
          "output_type": "stream",
          "name": "stdout",
          "text": [
            "<class 'pandas.core.frame.DataFrame'>\n",
            "RangeIndex: 365 entries, 0 to 364\n",
            "Data columns (total 2 columns):\n",
            " #   Column  Non-Null Count  Dtype  \n",
            "---  ------  --------------  -----  \n",
            " 0   ds      365 non-null    object \n",
            " 1   y       365 non-null    float64\n",
            "dtypes: float64(1), object(1)\n",
            "memory usage: 5.8+ KB\n"
          ]
        },
        {
          "output_type": "execute_result",
          "data": {
            "text/plain": [
              "<fbprophet.forecaster.Prophet at 0x7f10cdf25cd0>"
            ]
          },
          "metadata": {},
          "execution_count": 29
        }
      ]
    },
    {
      "cell_type": "code",
      "metadata": {
        "colab": {
          "base_uri": "https://localhost:8080/",
          "height": 345
        },
        "id": "ewtkqvxUF4Ba",
        "outputId": "8b25e326-5ad0-41b8-f85e-aa82dc66e2ff"
      },
      "source": [
        "future_data = prophet.make_future_dataframe(periods=5,freq = 'd')\n",
        "future_data.info()\n",
        "future_data.tail()"
      ],
      "id": "ewtkqvxUF4Ba",
      "execution_count": 44,
      "outputs": [
        {
          "output_type": "stream",
          "name": "stdout",
          "text": [
            "<class 'pandas.core.frame.DataFrame'>\n",
            "RangeIndex: 370 entries, 0 to 369\n",
            "Data columns (total 1 columns):\n",
            " #   Column  Non-Null Count  Dtype         \n",
            "---  ------  --------------  -----         \n",
            " 0   ds      370 non-null    datetime64[ns]\n",
            "dtypes: datetime64[ns](1)\n",
            "memory usage: 3.0 KB\n"
          ]
        },
        {
          "output_type": "execute_result",
          "data": {
            "text/html": [
              "<div>\n",
              "<style scoped>\n",
              "    .dataframe tbody tr th:only-of-type {\n",
              "        vertical-align: middle;\n",
              "    }\n",
              "\n",
              "    .dataframe tbody tr th {\n",
              "        vertical-align: top;\n",
              "    }\n",
              "\n",
              "    .dataframe thead th {\n",
              "        text-align: right;\n",
              "    }\n",
              "</style>\n",
              "<table border=\"1\" class=\"dataframe\">\n",
              "  <thead>\n",
              "    <tr style=\"text-align: right;\">\n",
              "      <th></th>\n",
              "      <th>ds</th>\n",
              "    </tr>\n",
              "  </thead>\n",
              "  <tbody>\n",
              "    <tr>\n",
              "      <th>365</th>\n",
              "      <td>2018-08-27</td>\n",
              "    </tr>\n",
              "    <tr>\n",
              "      <th>366</th>\n",
              "      <td>2018-08-28</td>\n",
              "    </tr>\n",
              "    <tr>\n",
              "      <th>367</th>\n",
              "      <td>2018-08-29</td>\n",
              "    </tr>\n",
              "    <tr>\n",
              "      <th>368</th>\n",
              "      <td>2018-08-30</td>\n",
              "    </tr>\n",
              "    <tr>\n",
              "      <th>369</th>\n",
              "      <td>2018-08-31</td>\n",
              "    </tr>\n",
              "  </tbody>\n",
              "</table>\n",
              "</div>"
            ],
            "text/plain": [
              "            ds\n",
              "365 2018-08-27\n",
              "366 2018-08-28\n",
              "367 2018-08-29\n",
              "368 2018-08-30\n",
              "369 2018-08-31"
            ]
          },
          "metadata": {},
          "execution_count": 44
        }
      ]
    },
    {
      "cell_type": "code",
      "metadata": {
        "colab": {
          "base_uri": "https://localhost:8080/"
        },
        "id": "sLDuqhL2F4Js",
        "outputId": "05f586d9-d9da-4a3e-effc-86f7c17df24c"
      },
      "source": [
        "forecast_data = prophet.predict(future_data)\n",
        "forecast_data.info()"
      ],
      "id": "sLDuqhL2F4Js",
      "execution_count": 45,
      "outputs": [
        {
          "output_type": "stream",
          "name": "stdout",
          "text": [
            "<class 'pandas.core.frame.DataFrame'>\n",
            "RangeIndex: 370 entries, 0 to 369\n",
            "Data columns (total 22 columns):\n",
            " #   Column                      Non-Null Count  Dtype         \n",
            "---  ------                      --------------  -----         \n",
            " 0   ds                          370 non-null    datetime64[ns]\n",
            " 1   trend                       370 non-null    float64       \n",
            " 2   yhat_lower                  370 non-null    float64       \n",
            " 3   yhat_upper                  370 non-null    float64       \n",
            " 4   trend_lower                 370 non-null    float64       \n",
            " 5   trend_upper                 370 non-null    float64       \n",
            " 6   daily                       370 non-null    float64       \n",
            " 7   daily_lower                 370 non-null    float64       \n",
            " 8   daily_upper                 370 non-null    float64       \n",
            " 9   multiplicative_terms        370 non-null    float64       \n",
            " 10  multiplicative_terms_lower  370 non-null    float64       \n",
            " 11  multiplicative_terms_upper  370 non-null    float64       \n",
            " 12  weekly                      370 non-null    float64       \n",
            " 13  weekly_lower                370 non-null    float64       \n",
            " 14  weekly_upper                370 non-null    float64       \n",
            " 15  yearly                      370 non-null    float64       \n",
            " 16  yearly_lower                370 non-null    float64       \n",
            " 17  yearly_upper                370 non-null    float64       \n",
            " 18  additive_terms              370 non-null    float64       \n",
            " 19  additive_terms_lower        370 non-null    float64       \n",
            " 20  additive_terms_upper        370 non-null    float64       \n",
            " 21  yhat                        370 non-null    float64       \n",
            "dtypes: datetime64[ns](1), float64(21)\n",
            "memory usage: 63.7 KB\n"
          ]
        }
      ]
    },
    {
      "cell_type": "code",
      "metadata": {
        "colab": {
          "base_uri": "https://localhost:8080/",
          "height": 392
        },
        "id": "sEpLjWm1F4RR",
        "outputId": "f4bfa1ea-ca35-4272-9e24-31b81908820f"
      },
      "source": [
        "fig3 = prophet.plot(forecast_data)\n"
      ],
      "id": "sEpLjWm1F4RR",
      "execution_count": 46,
      "outputs": [
        {
          "output_type": "display_data",
          "data": {
            "image/png": "[encoded data removed]",
            "text/plain": [
              "<Figure size 720x432 with 1 Axes>"
            ]
          },
          "metadata": {}
        }
      ]
    },
    {
      "cell_type": "code",
      "metadata": {
        "colab": {
          "base_uri": "https://localhost:8080/",
          "height": 730
        },
        "id": "0DehXvDGNX5E",
        "outputId": "cc449ba1-e331-4c15-87d6-67cae288d062"
      },
      "source": [
        "forecast_data.tail(10)"
      ],
      "id": "0DehXvDGNX5E",
      "execution_count": 47,
      "outputs": [
        {
          "output_type": "execute_result",
          "data": {
            "text/html": [
              "<div>\n",
              "<style scoped>\n",
              "    .dataframe tbody tr th:only-of-type {\n",
              "        vertical-align: middle;\n",
              "    }\n",
              "\n",
              "    .dataframe tbody tr th {\n",
              "        vertical-align: top;\n",
              "    }\n",
              "\n",
              "    .dataframe thead th {\n",
              "        text-align: right;\n",
              "    }\n",
              "</style>\n",
              "<table border=\"1\" class=\"dataframe\">\n",
              "  <thead>\n",
              "    <tr style=\"text-align: right;\">\n",
              "      <th></th>\n",
              "      <th>ds</th>\n",
              "      <th>trend</th>\n",
              "      <th>yhat_lower</th>\n",
              "      <th>yhat_upper</th>\n",
              "      <th>trend_lower</th>\n",
              "      <th>trend_upper</th>\n",
              "      <th>daily</th>\n",
              "      <th>daily_lower</th>\n",
              "      <th>daily_upper</th>\n",
              "      <th>multiplicative_terms</th>\n",
              "      <th>multiplicative_terms_lower</th>\n",
              "      <th>multiplicative_terms_upper</th>\n",
              "      <th>weekly</th>\n",
              "      <th>weekly_lower</th>\n",
              "      <th>weekly_upper</th>\n",
              "      <th>yearly</th>\n",
              "      <th>yearly_lower</th>\n",
              "      <th>yearly_upper</th>\n",
              "      <th>additive_terms</th>\n",
              "      <th>additive_terms_lower</th>\n",
              "      <th>additive_terms_upper</th>\n",
              "      <th>yhat</th>\n",
              "    </tr>\n",
              "  </thead>\n",
              "  <tbody>\n",
              "    <tr>\n",
              "      <th>360</th>\n",
              "      <td>2018-08-22</td>\n",
              "      <td>579.818423</td>\n",
              "      <td>5765.823487</td>\n",
              "      <td>7056.236017</td>\n",
              "      <td>579.818423</td>\n",
              "      <td>579.818423</td>\n",
              "      <td>10.907431</td>\n",
              "      <td>10.907431</td>\n",
              "      <td>10.907431</td>\n",
              "      <td>10.116590</td>\n",
              "      <td>10.116590</td>\n",
              "      <td>10.116590</td>\n",
              "      <td>-0.055193</td>\n",
              "      <td>-0.055193</td>\n",
              "      <td>-0.055193</td>\n",
              "      <td>-0.735648</td>\n",
              "      <td>-0.735648</td>\n",
              "      <td>-0.735648</td>\n",
              "      <td>0.0</td>\n",
              "      <td>0.0</td>\n",
              "      <td>0.0</td>\n",
              "      <td>6445.603647</td>\n",
              "    </tr>\n",
              "    <tr>\n",
              "      <th>361</th>\n",
              "      <td>2018-08-23</td>\n",
              "      <td>582.869521</td>\n",
              "      <td>5858.520877</td>\n",
              "      <td>7158.564209</td>\n",
              "      <td>582.869521</td>\n",
              "      <td>582.869521</td>\n",
              "      <td>10.907431</td>\n",
              "      <td>10.907431</td>\n",
              "      <td>10.907431</td>\n",
              "      <td>10.217431</td>\n",
              "      <td>10.217431</td>\n",
              "      <td>10.217431</td>\n",
              "      <td>-0.029402</td>\n",
              "      <td>-0.029402</td>\n",
              "      <td>-0.029402</td>\n",
              "      <td>-0.660598</td>\n",
              "      <td>-0.660598</td>\n",
              "      <td>-0.660598</td>\n",
              "      <td>0.0</td>\n",
              "      <td>0.0</td>\n",
              "      <td>0.0</td>\n",
              "      <td>6538.298694</td>\n",
              "    </tr>\n",
              "    <tr>\n",
              "      <th>362</th>\n",
              "      <td>2018-08-24</td>\n",
              "      <td>585.920620</td>\n",
              "      <td>6016.256721</td>\n",
              "      <td>7321.603008</td>\n",
              "      <td>585.920620</td>\n",
              "      <td>585.920620</td>\n",
              "      <td>10.907431</td>\n",
              "      <td>10.907431</td>\n",
              "      <td>10.907431</td>\n",
              "      <td>10.366844</td>\n",
              "      <td>10.366844</td>\n",
              "      <td>10.366844</td>\n",
              "      <td>0.039476</td>\n",
              "      <td>0.039476</td>\n",
              "      <td>0.039476</td>\n",
              "      <td>-0.580063</td>\n",
              "      <td>-0.580063</td>\n",
              "      <td>-0.580063</td>\n",
              "      <td>0.0</td>\n",
              "      <td>0.0</td>\n",
              "      <td>0.0</td>\n",
              "      <td>6660.068528</td>\n",
              "    </tr>\n",
              "    <tr>\n",
              "      <th>363</th>\n",
              "      <td>2018-08-25</td>\n",
              "      <td>588.971718</td>\n",
              "      <td>6094.851784</td>\n",
              "      <td>7430.688175</td>\n",
              "      <td>588.971718</td>\n",
              "      <td>588.971718</td>\n",
              "      <td>10.907431</td>\n",
              "      <td>10.907431</td>\n",
              "      <td>10.907431</td>\n",
              "      <td>10.472413</td>\n",
              "      <td>10.472413</td>\n",
              "      <td>10.472413</td>\n",
              "      <td>0.064010</td>\n",
              "      <td>0.064010</td>\n",
              "      <td>0.064010</td>\n",
              "      <td>-0.499029</td>\n",
              "      <td>-0.499029</td>\n",
              "      <td>-0.499029</td>\n",
              "      <td>0.0</td>\n",
              "      <td>0.0</td>\n",
              "      <td>0.0</td>\n",
              "      <td>6756.926780</td>\n",
              "    </tr>\n",
              "    <tr>\n",
              "      <th>364</th>\n",
              "      <td>2018-08-26</td>\n",
              "      <td>592.022817</td>\n",
              "      <td>6077.201095</td>\n",
              "      <td>7410.433659</td>\n",
              "      <td>592.022817</td>\n",
              "      <td>592.022817</td>\n",
              "      <td>10.907431</td>\n",
              "      <td>10.907431</td>\n",
              "      <td>10.907431</td>\n",
              "      <td>10.447592</td>\n",
              "      <td>10.447592</td>\n",
              "      <td>10.447592</td>\n",
              "      <td>-0.037457</td>\n",
              "      <td>-0.037457</td>\n",
              "      <td>-0.037457</td>\n",
              "      <td>-0.422382</td>\n",
              "      <td>-0.422382</td>\n",
              "      <td>-0.422382</td>\n",
              "      <td>0.0</td>\n",
              "      <td>0.0</td>\n",
              "      <td>0.0</td>\n",
              "      <td>6777.235659</td>\n",
              "    </tr>\n",
              "    <tr>\n",
              "      <th>365</th>\n",
              "      <td>2018-08-27</td>\n",
              "      <td>595.073916</td>\n",
              "      <td>6209.778324</td>\n",
              "      <td>7525.853419</td>\n",
              "      <td>595.073916</td>\n",
              "      <td>595.073916</td>\n",
              "      <td>10.907431</td>\n",
              "      <td>10.907431</td>\n",
              "      <td>10.907431</td>\n",
              "      <td>10.544862</td>\n",
              "      <td>10.544862</td>\n",
              "      <td>10.544862</td>\n",
              "      <td>-0.007796</td>\n",
              "      <td>-0.007796</td>\n",
              "      <td>-0.007796</td>\n",
              "      <td>-0.354773</td>\n",
              "      <td>-0.354773</td>\n",
              "      <td>-0.354773</td>\n",
              "      <td>0.0</td>\n",
              "      <td>0.0</td>\n",
              "      <td>0.0</td>\n",
              "      <td>6870.046369</td>\n",
              "    </tr>\n",
              "    <tr>\n",
              "      <th>366</th>\n",
              "      <td>2018-08-28</td>\n",
              "      <td>598.125014</td>\n",
              "      <td>6275.671372</td>\n",
              "      <td>7622.777576</td>\n",
              "      <td>598.125014</td>\n",
              "      <td>598.125014</td>\n",
              "      <td>10.907431</td>\n",
              "      <td>10.907431</td>\n",
              "      <td>10.907431</td>\n",
              "      <td>10.633309</td>\n",
              "      <td>10.633309</td>\n",
              "      <td>10.633309</td>\n",
              "      <td>0.026363</td>\n",
              "      <td>0.026363</td>\n",
              "      <td>0.026363</td>\n",
              "      <td>-0.300485</td>\n",
              "      <td>-0.300485</td>\n",
              "      <td>-0.300485</td>\n",
              "      <td>0.0</td>\n",
              "      <td>0.0</td>\n",
              "      <td>0.0</td>\n",
              "      <td>6958.173352</td>\n",
              "    </tr>\n",
              "    <tr>\n",
              "      <th>367</th>\n",
              "      <td>2018-08-29</td>\n",
              "      <td>601.176113</td>\n",
              "      <td>6264.739388</td>\n",
              "      <td>7681.854778</td>\n",
              "      <td>601.176113</td>\n",
              "      <td>601.176113</td>\n",
              "      <td>10.907431</td>\n",
              "      <td>10.907431</td>\n",
              "      <td>10.907431</td>\n",
              "      <td>10.588920</td>\n",
              "      <td>10.588920</td>\n",
              "      <td>10.588920</td>\n",
              "      <td>-0.055193</td>\n",
              "      <td>-0.055193</td>\n",
              "      <td>-0.055193</td>\n",
              "      <td>-0.263318</td>\n",
              "      <td>-0.263318</td>\n",
              "      <td>-0.263318</td>\n",
              "      <td>0.0</td>\n",
              "      <td>0.0</td>\n",
              "      <td>0.0</td>\n",
              "      <td>6966.981989</td>\n",
              "    </tr>\n",
              "    <tr>\n",
              "      <th>368</th>\n",
              "      <td>2018-08-30</td>\n",
              "      <td>604.227211</td>\n",
              "      <td>6273.897819</td>\n",
              "      <td>7734.906175</td>\n",
              "      <td>602.121870</td>\n",
              "      <td>605.042899</td>\n",
              "      <td>10.907431</td>\n",
              "      <td>10.907431</td>\n",
              "      <td>10.907431</td>\n",
              "      <td>10.631542</td>\n",
              "      <td>10.631542</td>\n",
              "      <td>10.631542</td>\n",
              "      <td>-0.029402</td>\n",
              "      <td>-0.029402</td>\n",
              "      <td>-0.029402</td>\n",
              "      <td>-0.246487</td>\n",
              "      <td>-0.246487</td>\n",
              "      <td>-0.246487</td>\n",
              "      <td>0.0</td>\n",
              "      <td>0.0</td>\n",
              "      <td>0.0</td>\n",
              "      <td>7028.094432</td>\n",
              "    </tr>\n",
              "    <tr>\n",
              "      <th>369</th>\n",
              "      <td>2018-08-31</td>\n",
              "      <td>607.278310</td>\n",
              "      <td>6305.017834</td>\n",
              "      <td>7899.116323</td>\n",
              "      <td>595.535398</td>\n",
              "      <td>619.596922</td>\n",
              "      <td>10.907431</td>\n",
              "      <td>10.907431</td>\n",
              "      <td>10.907431</td>\n",
              "      <td>10.694373</td>\n",
              "      <td>10.694373</td>\n",
              "      <td>10.694373</td>\n",
              "      <td>0.039476</td>\n",
              "      <td>0.039476</td>\n",
              "      <td>0.039476</td>\n",
              "      <td>-0.252535</td>\n",
              "      <td>-0.252535</td>\n",
              "      <td>-0.252535</td>\n",
              "      <td>0.0</td>\n",
              "      <td>0.0</td>\n",
              "      <td>0.0</td>\n",
              "      <td>7101.738804</td>\n",
              "    </tr>\n",
              "  </tbody>\n",
              "</table>\n",
              "</div>"
            ],
            "text/plain": [
              "            ds       trend  ...  additive_terms_upper         yhat\n",
              "360 2018-08-22  579.818423  ...                   0.0  6445.603647\n",
              "361 2018-08-23  582.869521  ...                   0.0  6538.298694\n",
              "362 2018-08-24  585.920620  ...                   0.0  6660.068528\n",
              "363 2018-08-25  588.971718  ...                   0.0  6756.926780\n",
              "364 2018-08-26  592.022817  ...                   0.0  6777.235659\n",
              "365 2018-08-27  595.073916  ...                   0.0  6870.046369\n",
              "366 2018-08-28  598.125014  ...                   0.0  6958.173352\n",
              "367 2018-08-29  601.176113  ...                   0.0  6966.981989\n",
              "368 2018-08-30  604.227211  ...                   0.0  7028.094432\n",
              "369 2018-08-31  607.278310  ...                   0.0  7101.738804\n",
              "\n",
              "[10 rows x 22 columns]"
            ]
          },
          "metadata": {},
          "execution_count": 47
        }
      ]
    },
    {
      "cell_type": "code",
      "metadata": {
        "colab": {
          "base_uri": "https://localhost:8080/",
          "height": 400
        },
        "id": "U07tDJzsNYAN",
        "outputId": "94dce8d1-6977-4ea9-e622-a25ad5a22980"
      },
      "source": [
        "forecast_data[-5:]"
      ],
      "id": "U07tDJzsNYAN",
      "execution_count": 49,
      "outputs": [
        {
          "output_type": "execute_result",
          "data": {
            "text/html": [
              "<div>\n",
              "<style scoped>\n",
              "    .dataframe tbody tr th:only-of-type {\n",
              "        vertical-align: middle;\n",
              "    }\n",
              "\n",
              "    .dataframe tbody tr th {\n",
              "        vertical-align: top;\n",
              "    }\n",
              "\n",
              "    .dataframe thead th {\n",
              "        text-align: right;\n",
              "    }\n",
              "</style>\n",
              "<table border=\"1\" class=\"dataframe\">\n",
              "  <thead>\n",
              "    <tr style=\"text-align: right;\">\n",
              "      <th></th>\n",
              "      <th>ds</th>\n",
              "      <th>trend</th>\n",
              "      <th>yhat_lower</th>\n",
              "      <th>yhat_upper</th>\n",
              "      <th>trend_lower</th>\n",
              "      <th>trend_upper</th>\n",
              "      <th>daily</th>\n",
              "      <th>daily_lower</th>\n",
              "      <th>daily_upper</th>\n",
              "      <th>multiplicative_terms</th>\n",
              "      <th>multiplicative_terms_lower</th>\n",
              "      <th>multiplicative_terms_upper</th>\n",
              "      <th>weekly</th>\n",
              "      <th>weekly_lower</th>\n",
              "      <th>weekly_upper</th>\n",
              "      <th>yearly</th>\n",
              "      <th>yearly_lower</th>\n",
              "      <th>yearly_upper</th>\n",
              "      <th>additive_terms</th>\n",
              "      <th>additive_terms_lower</th>\n",
              "      <th>additive_terms_upper</th>\n",
              "      <th>yhat</th>\n",
              "    </tr>\n",
              "  </thead>\n",
              "  <tbody>\n",
              "    <tr>\n",
              "      <th>365</th>\n",
              "      <td>2018-08-27</td>\n",
              "      <td>595.073916</td>\n",
              "      <td>6209.778324</td>\n",
              "      <td>7525.853419</td>\n",
              "      <td>595.073916</td>\n",
              "      <td>595.073916</td>\n",
              "      <td>10.907431</td>\n",
              "      <td>10.907431</td>\n",
              "      <td>10.907431</td>\n",
              "      <td>10.544862</td>\n",
              "      <td>10.544862</td>\n",
              "      <td>10.544862</td>\n",
              "      <td>-0.007796</td>\n",
              "      <td>-0.007796</td>\n",
              "      <td>-0.007796</td>\n",
              "      <td>-0.354773</td>\n",
              "      <td>-0.354773</td>\n",
              "      <td>-0.354773</td>\n",
              "      <td>0.0</td>\n",
              "      <td>0.0</td>\n",
              "      <td>0.0</td>\n",
              "      <td>6870.046369</td>\n",
              "    </tr>\n",
              "    <tr>\n",
              "      <th>366</th>\n",
              "      <td>2018-08-28</td>\n",
              "      <td>598.125014</td>\n",
              "      <td>6275.671372</td>\n",
              "      <td>7622.777576</td>\n",
              "      <td>598.125014</td>\n",
              "      <td>598.125014</td>\n",
              "      <td>10.907431</td>\n",
              "      <td>10.907431</td>\n",
              "      <td>10.907431</td>\n",
              "      <td>10.633309</td>\n",
              "      <td>10.633309</td>\n",
              "      <td>10.633309</td>\n",
              "      <td>0.026363</td>\n",
              "      <td>0.026363</td>\n",
              "      <td>0.026363</td>\n",
              "      <td>-0.300485</td>\n",
              "      <td>-0.300485</td>\n",
              "      <td>-0.300485</td>\n",
              "      <td>0.0</td>\n",
              "      <td>0.0</td>\n",
              "      <td>0.0</td>\n",
              "      <td>6958.173352</td>\n",
              "    </tr>\n",
              "    <tr>\n",
              "      <th>367</th>\n",
              "      <td>2018-08-29</td>\n",
              "      <td>601.176113</td>\n",
              "      <td>6264.739388</td>\n",
              "      <td>7681.854778</td>\n",
              "      <td>601.176113</td>\n",
              "      <td>601.176113</td>\n",
              "      <td>10.907431</td>\n",
              "      <td>10.907431</td>\n",
              "      <td>10.907431</td>\n",
              "      <td>10.588920</td>\n",
              "      <td>10.588920</td>\n",
              "      <td>10.588920</td>\n",
              "      <td>-0.055193</td>\n",
              "      <td>-0.055193</td>\n",
              "      <td>-0.055193</td>\n",
              "      <td>-0.263318</td>\n",
              "      <td>-0.263318</td>\n",
              "      <td>-0.263318</td>\n",
              "      <td>0.0</td>\n",
              "      <td>0.0</td>\n",
              "      <td>0.0</td>\n",
              "      <td>6966.981989</td>\n",
              "    </tr>\n",
              "    <tr>\n",
              "      <th>368</th>\n",
              "      <td>2018-08-30</td>\n",
              "      <td>604.227211</td>\n",
              "      <td>6273.897819</td>\n",
              "      <td>7734.906175</td>\n",
              "      <td>602.121870</td>\n",
              "      <td>605.042899</td>\n",
              "      <td>10.907431</td>\n",
              "      <td>10.907431</td>\n",
              "      <td>10.907431</td>\n",
              "      <td>10.631542</td>\n",
              "      <td>10.631542</td>\n",
              "      <td>10.631542</td>\n",
              "      <td>-0.029402</td>\n",
              "      <td>-0.029402</td>\n",
              "      <td>-0.029402</td>\n",
              "      <td>-0.246487</td>\n",
              "      <td>-0.246487</td>\n",
              "      <td>-0.246487</td>\n",
              "      <td>0.0</td>\n",
              "      <td>0.0</td>\n",
              "      <td>0.0</td>\n",
              "      <td>7028.094432</td>\n",
              "    </tr>\n",
              "    <tr>\n",
              "      <th>369</th>\n",
              "      <td>2018-08-31</td>\n",
              "      <td>607.278310</td>\n",
              "      <td>6305.017834</td>\n",
              "      <td>7899.116323</td>\n",
              "      <td>595.535398</td>\n",
              "      <td>619.596922</td>\n",
              "      <td>10.907431</td>\n",
              "      <td>10.907431</td>\n",
              "      <td>10.907431</td>\n",
              "      <td>10.694373</td>\n",
              "      <td>10.694373</td>\n",
              "      <td>10.694373</td>\n",
              "      <td>0.039476</td>\n",
              "      <td>0.039476</td>\n",
              "      <td>0.039476</td>\n",
              "      <td>-0.252535</td>\n",
              "      <td>-0.252535</td>\n",
              "      <td>-0.252535</td>\n",
              "      <td>0.0</td>\n",
              "      <td>0.0</td>\n",
              "      <td>0.0</td>\n",
              "      <td>7101.738804</td>\n",
              "    </tr>\n",
              "  </tbody>\n",
              "</table>\n",
              "</div>"
            ],
            "text/plain": [
              "            ds       trend  ...  additive_terms_upper         yhat\n",
              "365 2018-08-27  595.073916  ...                   0.0  6870.046369\n",
              "366 2018-08-28  598.125014  ...                   0.0  6958.173352\n",
              "367 2018-08-29  601.176113  ...                   0.0  6966.981989\n",
              "368 2018-08-30  604.227211  ...                   0.0  7028.094432\n",
              "369 2018-08-31  607.278310  ...                   0.0  7101.738804\n",
              "\n",
              "[5 rows x 22 columns]"
            ]
          },
          "metadata": {},
          "execution_count": 49
        }
      ]
    },
    {
      "cell_type": "code",
      "metadata": {
        "colab": {
          "base_uri": "https://localhost:8080/",
          "height": 400
        },
        "id": "VPPuR9QxNYGG",
        "outputId": "30df4607-88fb-49c6-f76e-8d15c48503ff"
      },
      "source": [
        "forecast_data.tail(5)"
      ],
      "id": "VPPuR9QxNYGG",
      "execution_count": 51,
      "outputs": [
        {
          "output_type": "execute_result",
          "data": {
            "text/html": [
              "<div>\n",
              "<style scoped>\n",
              "    .dataframe tbody tr th:only-of-type {\n",
              "        vertical-align: middle;\n",
              "    }\n",
              "\n",
              "    .dataframe tbody tr th {\n",
              "        vertical-align: top;\n",
              "    }\n",
              "\n",
              "    .dataframe thead th {\n",
              "        text-align: right;\n",
              "    }\n",
              "</style>\n",
              "<table border=\"1\" class=\"dataframe\">\n",
              "  <thead>\n",
              "    <tr style=\"text-align: right;\">\n",
              "      <th></th>\n",
              "      <th>ds</th>\n",
              "      <th>trend</th>\n",
              "      <th>yhat_lower</th>\n",
              "      <th>yhat_upper</th>\n",
              "      <th>trend_lower</th>\n",
              "      <th>trend_upper</th>\n",
              "      <th>daily</th>\n",
              "      <th>daily_lower</th>\n",
              "      <th>daily_upper</th>\n",
              "      <th>multiplicative_terms</th>\n",
              "      <th>multiplicative_terms_lower</th>\n",
              "      <th>multiplicative_terms_upper</th>\n",
              "      <th>weekly</th>\n",
              "      <th>weekly_lower</th>\n",
              "      <th>weekly_upper</th>\n",
              "      <th>yearly</th>\n",
              "      <th>yearly_lower</th>\n",
              "      <th>yearly_upper</th>\n",
              "      <th>additive_terms</th>\n",
              "      <th>additive_terms_lower</th>\n",
              "      <th>additive_terms_upper</th>\n",
              "      <th>yhat</th>\n",
              "    </tr>\n",
              "  </thead>\n",
              "  <tbody>\n",
              "    <tr>\n",
              "      <th>365</th>\n",
              "      <td>2018-08-27</td>\n",
              "      <td>595.073916</td>\n",
              "      <td>6209.778324</td>\n",
              "      <td>7525.853419</td>\n",
              "      <td>595.073916</td>\n",
              "      <td>595.073916</td>\n",
              "      <td>10.907431</td>\n",
              "      <td>10.907431</td>\n",
              "      <td>10.907431</td>\n",
              "      <td>10.544862</td>\n",
              "      <td>10.544862</td>\n",
              "      <td>10.544862</td>\n",
              "      <td>-0.007796</td>\n",
              "      <td>-0.007796</td>\n",
              "      <td>-0.007796</td>\n",
              "      <td>-0.354773</td>\n",
              "      <td>-0.354773</td>\n",
              "      <td>-0.354773</td>\n",
              "      <td>0.0</td>\n",
              "      <td>0.0</td>\n",
              "      <td>0.0</td>\n",
              "      <td>6870.046369</td>\n",
              "    </tr>\n",
              "    <tr>\n",
              "      <th>366</th>\n",
              "      <td>2018-08-28</td>\n",
              "      <td>598.125014</td>\n",
              "      <td>6275.671372</td>\n",
              "      <td>7622.777576</td>\n",
              "      <td>598.125014</td>\n",
              "      <td>598.125014</td>\n",
              "      <td>10.907431</td>\n",
              "      <td>10.907431</td>\n",
              "      <td>10.907431</td>\n",
              "      <td>10.633309</td>\n",
              "      <td>10.633309</td>\n",
              "      <td>10.633309</td>\n",
              "      <td>0.026363</td>\n",
              "      <td>0.026363</td>\n",
              "      <td>0.026363</td>\n",
              "      <td>-0.300485</td>\n",
              "      <td>-0.300485</td>\n",
              "      <td>-0.300485</td>\n",
              "      <td>0.0</td>\n",
              "      <td>0.0</td>\n",
              "      <td>0.0</td>\n",
              "      <td>6958.173352</td>\n",
              "    </tr>\n",
              "    <tr>\n",
              "      <th>367</th>\n",
              "      <td>2018-08-29</td>\n",
              "      <td>601.176113</td>\n",
              "      <td>6264.739388</td>\n",
              "      <td>7681.854778</td>\n",
              "      <td>601.176113</td>\n",
              "      <td>601.176113</td>\n",
              "      <td>10.907431</td>\n",
              "      <td>10.907431</td>\n",
              "      <td>10.907431</td>\n",
              "      <td>10.588920</td>\n",
              "      <td>10.588920</td>\n",
              "      <td>10.588920</td>\n",
              "      <td>-0.055193</td>\n",
              "      <td>-0.055193</td>\n",
              "      <td>-0.055193</td>\n",
              "      <td>-0.263318</td>\n",
              "      <td>-0.263318</td>\n",
              "      <td>-0.263318</td>\n",
              "      <td>0.0</td>\n",
              "      <td>0.0</td>\n",
              "      <td>0.0</td>\n",
              "      <td>6966.981989</td>\n",
              "    </tr>\n",
              "    <tr>\n",
              "      <th>368</th>\n",
              "      <td>2018-08-30</td>\n",
              "      <td>604.227211</td>\n",
              "      <td>6273.897819</td>\n",
              "      <td>7734.906175</td>\n",
              "      <td>602.121870</td>\n",
              "      <td>605.042899</td>\n",
              "      <td>10.907431</td>\n",
              "      <td>10.907431</td>\n",
              "      <td>10.907431</td>\n",
              "      <td>10.631542</td>\n",
              "      <td>10.631542</td>\n",
              "      <td>10.631542</td>\n",
              "      <td>-0.029402</td>\n",
              "      <td>-0.029402</td>\n",
              "      <td>-0.029402</td>\n",
              "      <td>-0.246487</td>\n",
              "      <td>-0.246487</td>\n",
              "      <td>-0.246487</td>\n",
              "      <td>0.0</td>\n",
              "      <td>0.0</td>\n",
              "      <td>0.0</td>\n",
              "      <td>7028.094432</td>\n",
              "    </tr>\n",
              "    <tr>\n",
              "      <th>369</th>\n",
              "      <td>2018-08-31</td>\n",
              "      <td>607.278310</td>\n",
              "      <td>6305.017834</td>\n",
              "      <td>7899.116323</td>\n",
              "      <td>595.535398</td>\n",
              "      <td>619.596922</td>\n",
              "      <td>10.907431</td>\n",
              "      <td>10.907431</td>\n",
              "      <td>10.907431</td>\n",
              "      <td>10.694373</td>\n",
              "      <td>10.694373</td>\n",
              "      <td>10.694373</td>\n",
              "      <td>0.039476</td>\n",
              "      <td>0.039476</td>\n",
              "      <td>0.039476</td>\n",
              "      <td>-0.252535</td>\n",
              "      <td>-0.252535</td>\n",
              "      <td>-0.252535</td>\n",
              "      <td>0.0</td>\n",
              "      <td>0.0</td>\n",
              "      <td>0.0</td>\n",
              "      <td>7101.738804</td>\n",
              "    </tr>\n",
              "  </tbody>\n",
              "</table>\n",
              "</div>"
            ],
            "text/plain": [
              "            ds       trend  ...  additive_terms_upper         yhat\n",
              "365 2018-08-27  595.073916  ...                   0.0  6870.046369\n",
              "366 2018-08-28  598.125014  ...                   0.0  6958.173352\n",
              "367 2018-08-29  601.176113  ...                   0.0  6966.981989\n",
              "368 2018-08-30  604.227211  ...                   0.0  7028.094432\n",
              "369 2018-08-31  607.278310  ...                   0.0  7101.738804\n",
              "\n",
              "[5 rows x 22 columns]"
            ]
          },
          "metadata": {},
          "execution_count": 51
        }
      ]
    },
    {
      "cell_type": "code",
      "metadata": {
        "id": "Qan-jt0zPYpH"
      },
      "source": [
        "pred_y2 = forecast_data.yhat.values[-5:]\n",
        "pred_y2_lower = forecast_data.yhat_lower.values[-5:]\n",
        "pred_y2_upper = forecast_data.yhat_upper.values[-5:]\n"
      ],
      "id": "Qan-jt0zPYpH",
      "execution_count": 52,
      "outputs": []
    },
    {
      "cell_type": "code",
      "metadata": {
        "colab": {
          "base_uri": "https://localhost:8080/",
          "height": 281
        },
        "id": "AtvWhDsHPYwl",
        "outputId": "ce9be800-bb71-4c6b-9290-d061a1e9f340"
      },
      "source": [
        "plt.plot(pred_y2, label = 'forecast')\n",
        "plt.plot(test_y, label = 'y')\n",
        "plt.plot(pred_y2_lower, label = 'conf_in_lower')\n",
        "plt.plot(pred_y2_upper, label = 'conf_in_upper')\n",
        "plt.title('bitcoin price forecast - Procher')\n",
        "plt.legend()\n",
        "plt.show()"
      ],
      "id": "AtvWhDsHPYwl",
      "execution_count": 57,
      "outputs": [
        {
          "output_type": "display_data",
          "data": {
            "image/png": "[encoded data removed]",
            "text/plain": [
              "<Figure size 432x288 with 1 Axes>"
            ]
          },
          "metadata": {
            "needs_background": "light"
          }
        }
      ]
    },
    {
      "cell_type": "code",
      "metadata": {
        "colab": {
          "base_uri": "https://localhost:8080/",
          "height": 281
        },
        "id": "ADWNAL_2PY2-",
        "outputId": "6355423a-df98-41b7-d808-b2c2beb16b4d"
      },
      "source": [
        "plt.plot(pred_y2, label = 'forecast')\n",
        "plt.plot(test_y, label = 'y')\n",
        "plt.title('bitcoin price - Procher')\n",
        "plt.legend()\n",
        "plt.show()\n"
      ],
      "id": "ADWNAL_2PY2-",
      "execution_count": 58,
      "outputs": [
        {
          "output_type": "display_data",
          "data": {
            "image/png": "[encoded data removed]",
            "text/plain": [
              "<Figure size 432x288 with 1 Axes>"
            ]
          },
          "metadata": {
            "needs_background": "light"
          }
        }
      ]
    },
    {
      "cell_type": "code",
      "metadata": {
        "colab": {
          "base_uri": "https://localhost:8080/",
          "height": 281
        },
        "id": "2W-I-mWzPY-F",
        "outputId": "d554af6b-236a-4eed-bd2e-b9c4eb4dfcb7"
      },
      "source": [
        "plt.plot(pred_y2, label = 'Procher')\n",
        "plt.plot(pred_y, label = 'ARIMA')\n",
        "plt.plot(test_y, label = 'y')\n",
        "plt.title('bitcoin price forecast')\n",
        "plt.legend()\n",
        "plt.show()"
      ],
      "id": "2W-I-mWzPY-F",
      "execution_count": 60,
      "outputs": [
        {
          "output_type": "display_data",
          "data": {
            "image/png": "[encoded data removed]",
            "text/plain": [
              "<Figure size 432x288 with 1 Axes>"
            ]
          },
          "metadata": {
            "needs_background": "light"
          }
        }
      ]
    },
    {
      "cell_type": "code",
      "metadata": {
        "colab": {
          "base_uri": "https://localhost:8080/"
        },
        "id": "NM8uWwA_PZDp",
        "outputId": "321fa561-d839-40f1-f2d5-0a2cf3b3e69c"
      },
      "source": [
        "from sklearn.metrics import mean_squared_error\n",
        "from math import sqrt\n",
        "\n",
        "print('RMSE')\n",
        "print('-ARIMA :', sqrt(mean_squared_error(pred_y, test_y)))\n",
        "print('-Prophet :', sqrt(mean_squared_error(pred_y2, test_y)))\n"
      ],
      "id": "NM8uWwA_PZDp",
      "execution_count": 62,
      "outputs": [
        {
          "output_type": "stream",
          "name": "stdout",
          "text": [
            "RMSE\n",
            "-ARIMA : 306.40043031665004\n",
            "-Prophet : 105.41853842279897\n"
          ]
        }
      ]
    },
    {
      "cell_type": "code",
      "metadata": {
        "id": "tCb318lZPZIy"
      },
      "source": [
        ""
      ],
      "id": "tCb318lZPZIy",
      "execution_count": 51,
      "outputs": []
    },
    {
      "cell_type": "code",
      "metadata": {
        "id": "N6ebXVicPZMJ"
      },
      "source": [
        ""
      ],
      "id": "N6ebXVicPZMJ",
      "execution_count": 51,
      "outputs": []
    },
    {
      "cell_type": "code",
      "metadata": {
        "id": "ZtNXKM2DPZUr"
      },
      "source": [
        ""
      ],
      "id": "ZtNXKM2DPZUr",
      "execution_count": null,
      "outputs": []
    }
  ]
}